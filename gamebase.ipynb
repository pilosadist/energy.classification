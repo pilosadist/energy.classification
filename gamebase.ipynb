{
 "cells": [
  {
   "cell_type": "code",
   "execution_count": 11,
   "id": "acf8f2f9",
   "metadata": {},
   "outputs": [],
   "source": [
    "import os\n",
    "from dotenv import load_dotenv\n",
    "from igdb.wrapper import IGDBWrapper\n",
    "\n",
    "\n",
    "load_dotenv()\n",
    "ID = os.getenv('CLIENTID')\n",
    "TOKEN = os.getenv('ACCESSTOKEN')\n",
    "\n",
    "wrapper = IGDBWrapper(ID, TOKEN)"
   ]
  },
  {
   "cell_type": "code",
   "execution_count": 54,
   "id": "4745b007",
   "metadata": {},
   "outputs": [
    {
     "name": "stdout",
     "output_type": "stream",
     "text": [
      "{'id': 22439, 'name': 'The Witcher 3: Wild Hunt - Game of the Year Edition', 'rating': 98.76070450719621}\n",
      "{'id': 45181, 'name': 'Mass Effect Trilogy', 'rating': 98.00878724343191}\n",
      "{'id': 114283, 'hypes': 3, 'name': 'Persona 5 Royal', 'rating': 97.7530204847074}\n",
      "{'id': 119402, 'hypes': 2, 'name': 'The Witcher 3: Wild Hunt - Complete Edition', 'rating': 97.2924378833898}\n",
      "{'id': 42931, 'name': 'Bloodborne: Game Of The Year Edition', 'rating': 96.977448904725}\n",
      "{'id': 11270, 'name': 'The Cat Lady', 'rating': 96.9218886494231}\n",
      "{'id': 13166, 'hypes': 23, 'name': 'The Witcher 3: Wild Hunt - Blood and Wine', 'rating': 96.73418807217891}\n",
      "{'id': 119133, 'hypes': 96, 'name': 'Elden Ring', 'rating': 96.44687242446331}\n",
      "{'id': 26472, 'hypes': 12, 'name': 'Disco Elysium', 'rating': 96.2915006196938}\n",
      "{'id': 7194, 'name': 'Steins;Gate', 'rating': 96.2801500997957}\n",
      "{'id': 2985, 'hypes': 1, 'name': 'Persona 4 Golden', 'rating': 96.05828512867261}\n",
      "{'id': 196770, 'hypes': 1, 'name': 'Sunflower Land', 'rating': 96.0285219656845}\n",
      "{'id': 109287, 'hypes': 2, 'name': 'Hollow Knight: Voidheart Edition', 'rating': 95.64553048708589}\n",
      "{'id': 1942, 'hypes': 179, 'name': 'The Witcher 3: Wild Hunt', 'rating': 94.6892607774906}\n",
      "{'id': 8773, 'hypes': 2, 'name': 'Homeworld: Remastered Collection', 'rating': 94.6684889608124}\n",
      "{'id': 51820, 'name': 'Heroes of Might and Magic III: Complete', 'rating': 94.5199379182167}\n",
      "{'id': 10039, 'hypes': 38, 'name': 'Superfighters Deluxe', 'rating': 94.50593290371049}\n",
      "{'id': 19560, 'hypes': 92, 'name': 'God of War', 'rating': 94.474182095661}\n",
      "{'id': 6036, 'hypes': 5, 'name': 'The Last of Us Remastered', 'rating': 93.91041605446571}\n",
      "{'id': 1802, 'name': 'Chrono Trigger', 'rating': 93.86710518552161}\n",
      "{'id': 8492, 'name': 'Lisa', 'rating': 93.8194507766778}\n",
      "{'id': 14647, 'name': 'Bloodborne: The Old Hunters', 'rating': 93.808643429147}\n",
      "{'id': 13690, 'name': 'Mass Effect 3: Citadel', 'rating': 93.7554806629802}\n",
      "{'id': 12503, 'hypes': 2, 'name': 'The Witcher 3: Wild Hunt - Hearts of Stone', 'rating': 93.6646119263264}\n",
      "{'id': 1009, 'name': 'The Last of Us', 'rating': 93.4169730928413}\n",
      "{'id': 902, 'name': \"Sid Meier's Civilization\", 'rating': 93.3789733374669}\n",
      "{'id': 3349, 'name': 'Paper Mario: The Thousand-Year Door', 'rating': 93.35919549998809}\n",
      "{'id': 1103, 'name': 'Super Metroid', 'rating': 93.0082051271353}\n",
      "{'id': 9927, 'hypes': 34, 'name': 'Persona 5', 'rating': 92.9962786185576}\n",
      "{'id': 21704, 'name': 'Batman: Arkham City - Game of the Year Edition', 'rating': 92.99453357322831}\n",
      "{'id': 1070, 'name': 'Super Mario World', 'rating': 92.98343348173839}\n",
      "{'id': 9577, 'name': 'Persona 3', 'rating': 92.71743085576439}\n",
      "{'id': 379, 'name': 'Metal Gear Solid 3: Snake Eater', 'rating': 92.6883228061971}\n"
     ]
    }
   ],
   "source": [
    "byte_array = wrapper.api_request(\n",
    "            'games',\n",
    "            'fields id, name, rating, hypes; limit 33; where rating>80 & rating_count>50; sort rating desc;'\n",
    "          )\n",
    "\n",
    "import json\n",
    "\n",
    "for i in json.loads(byte_array.decode('utf-8')):\n",
    "    print(i)"
   ]
  }
 ],
 "metadata": {
  "kernelspec": {
   "display_name": "Python 3 (ipykernel)",
   "language": "python",
   "name": "python3"
  },
  "language_info": {
   "codemirror_mode": {
    "name": "ipython",
    "version": 3
   },
   "file_extension": ".py",
   "mimetype": "text/x-python",
   "name": "python",
   "nbconvert_exporter": "python",
   "pygments_lexer": "ipython3",
   "version": "3.10.6"
  }
 },
 "nbformat": 4,
 "nbformat_minor": 5
}
