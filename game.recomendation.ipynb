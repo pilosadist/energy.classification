{
 "cells": [
  {
   "cell_type": "code",
   "execution_count": 1,
   "id": "652407e9",
   "metadata": {},
   "outputs": [],
   "source": [
    "import pandas as pd\n",
    "import numpy as np"
   ]
  },
  {
   "cell_type": "code",
   "execution_count": 22,
   "id": "7e312d62",
   "metadata": {},
   "outputs": [],
   "source": [
    "#load dataset\n",
    "\n",
    "import os.path\n",
    "\n",
    "datasetdir = os.path.join('.', 'dataset')\n",
    "filename = 'games.clean.csv'\n",
    "path = os.path.join(datasetdir, filename)\n",
    "\n",
    "data = pd.read_csv(path, index_col='id')\n",
    "data.fillna('', inplace=True)"
   ]
  },
  {
   "cell_type": "markdown",
   "id": "133fea50",
   "metadata": {},
   "source": [
    "\n",
    "\n",
    " N   Column               Non-Null Count   Dtype      Type    Points  \n",
    "---  ------               --------------   -----      ----    ------\n",
    " 0   rating               103536 non-null  float64     S\n",
    " 1   aggregated_rating    103536 non-null  float64     S\n",
    " 2   follows              103536 non-null  float64     S\n",
    " 3   game_modes           103536 non-null  object      N        100\n",
    " 4   genres               93346 non-null   object      N        80\n",
    " 5   involved_companies   103536 non-null  object      D\n",
    " 6   keywords             56122 non-null   object      N        60\n",
    " 7   summary              97520 non-null   object      N        30\n",
    " 8   storyline            12658 non-null   object      N        20\n",
    " 9   name                 103536 non-null  object      R\n",
    " 10  platforms            103536 non-null  object      S\n",
    " 11  player_perspectives  46982 non-null   object      N        30\n",
    " 12  themes               63848 non-null   object      N        60\n",
    " 13  campaigncoop         103536 non-null  bool        N        5\n",
    " 14  dropin               103536 non-null  bool        N        5\n",
    " 15  lancoop              103536 non-null  bool        N        5\n",
    " 16  offlinecoop          103536 non-null  bool        N        5\n",
    " 17  onlinecoop           103536 non-null  bool        N        5\n",
    " 18  splitscreen          103536 non-null  bool        N        5\n",
    " 19  year                 103536 non-null  int64       S"
   ]
  },
  {
   "cell_type": "code",
   "execution_count": 77,
   "id": "79708d5d",
   "metadata": {},
   "outputs": [],
   "source": [
    "import stopwords\n",
    "stopw = stopwords.ENGLISH_STOP_WORDS"
   ]
  }
 ],
 "metadata": {
  "kernelspec": {
   "display_name": "Python 3 (ipykernel)",
   "language": "python",
   "name": "python3"
  },
  "language_info": {
   "codemirror_mode": {
    "name": "ipython",
    "version": 3
   },
   "file_extension": ".py",
   "mimetype": "text/x-python",
   "name": "python",
   "nbconvert_exporter": "python",
   "pygments_lexer": "ipython3",
   "version": "3.10.6"
  }
 },
 "nbformat": 4,
 "nbformat_minor": 5
}
