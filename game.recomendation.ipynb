{
 "cells": [
  {
   "cell_type": "code",
   "execution_count": 2,
   "id": "83315d12",
   "metadata": {},
   "outputs": [],
   "source": [
    "import pandas as pd\n",
    "import numpy as np"
   ]
  },
  {
   "cell_type": "code",
   "execution_count": 3,
   "id": "cd0380f7",
   "metadata": {},
   "outputs": [
    {
     "name": "stdout",
     "output_type": "stream",
     "text": [
      "<class 'pandas.core.frame.DataFrame'>\n",
      "Int64Index: 103536 entries, 56115 to 123757\n",
      "Data columns (total 20 columns):\n",
      " #   Column               Non-Null Count   Dtype  \n",
      "---  ------               --------------   -----  \n",
      " 0   rating               103536 non-null  float64\n",
      " 1   aggregated_rating    103536 non-null  float64\n",
      " 2   follows              103536 non-null  float64\n",
      " 3   game_modes           103536 non-null  object \n",
      " 4   genres               93346 non-null   object \n",
      " 5   involved_companies   103536 non-null  object \n",
      " 6   keywords             56122 non-null   object \n",
      " 7   summary              97520 non-null   object \n",
      " 8   storyline            12658 non-null   object \n",
      " 9   name                 103536 non-null  object \n",
      " 10  platforms            103536 non-null  object \n",
      " 11  player_perspectives  46982 non-null   object \n",
      " 12  themes               63848 non-null   object \n",
      " 13  campaigncoop         103536 non-null  bool   \n",
      " 14  dropin               103536 non-null  bool   \n",
      " 15  lancoop              103536 non-null  bool   \n",
      " 16  offlinecoop          103536 non-null  bool   \n",
      " 17  onlinecoop           103536 non-null  bool   \n",
      " 18  splitscreen          103536 non-null  bool   \n",
      " 19  year                 103536 non-null  int64  \n",
      "dtypes: bool(6), float64(3), int64(1), object(10)\n",
      "memory usage: 12.4+ MB\n"
     ]
    }
   ],
   "source": [
    "#load dataset\n",
    "\n",
    "import os.path\n",
    "\n",
    "datasetdir = os.path.join('.', 'dataset')\n",
    "filename = 'games.clean.csv'\n",
    "path = os.path.join(datasetdir, filename)\n",
    "\n",
    "data = pd.read_csv(path, index_col='id')\n",
    "data.info()"
   ]
  }
 ],
 "metadata": {
  "kernelspec": {
   "display_name": "Python 3 (ipykernel)",
   "language": "python",
   "name": "python3"
  },
  "language_info": {
   "codemirror_mode": {
    "name": "ipython",
    "version": 3
   },
   "file_extension": ".py",
   "mimetype": "text/x-python",
   "name": "python",
   "nbconvert_exporter": "python",
   "pygments_lexer": "ipython3",
   "version": "3.10.6"
  }
 },
 "nbformat": 4,
 "nbformat_minor": 5
}
